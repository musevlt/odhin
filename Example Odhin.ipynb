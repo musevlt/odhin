{
 "cells": [
  {
   "cell_type": "markdown",
   "metadata": {},
   "source": [
    "# Import libraries"
   ]
  },
  {
   "cell_type": "code",
   "execution_count": 1,
   "metadata": {},
   "outputs": [],
   "source": [
    "%load_ext autoreload\n",
    "%autoreload 2"
   ]
  },
  {
   "cell_type": "code",
   "execution_count": 2,
   "metadata": {
    "scrolled": true
   },
   "outputs": [],
   "source": [
    "import numpy as np\n",
    "import scipy.signal as ss\n",
    "import matplotlib\n",
    "import matplotlib.pyplot as plt\n",
    "import os\n",
    "\n",
    "from mpdaf.obj import Cube\n",
    "from mpdaf.sdetect import Source\n",
    "\n",
    "from deblend import main_deblending"
   ]
  },
  {
   "cell_type": "markdown",
   "metadata": {},
   "source": [
    "# Import data"
   ]
  },
  {
   "cell_type": "code",
   "execution_count": null,
   "metadata": {},
   "outputs": [],
   "source": [
    "DIR_SRC='./data/'\n",
    "ID = 6506\n",
    "src = Source.from_file(DIR_SRC+'udf_mosaic_%s.fits'%str(ID).zfill(5))"
   ]
  },
  {
   "cell_type": "code",
   "execution_count": null,
   "metadata": {},
   "outputs": [],
   "source": []
  },
  {
   "cell_type": "markdown",
   "metadata": {},
   "source": [
    "## Deblend "
   ]
  },
  {
   "cell_type": "code",
   "execution_count": null,
   "metadata": {},
   "outputs": [],
   "source": [
    "# create main object initializing with the source\n",
    "debl=main_deblending.Deblending(src)\n",
    "\n",
    "#create the intensity maps using segmap in source (any 2d array can be used)\n",
    "debl.createIntensityMap(segmap=src.images['HST_SEGMAP'].data)\n",
    "\n",
    "# do the deblending. The following parameters are the default ones\n",
    "# transfert_hst : compute transfert function from HST to MUSE so there is no need to apply HST psf on MUSE data\n",
    "# antialias : as the convolution on HST is done before the subsampling there is no need for \n",
    "# antialias filter when subsampling HST, thus no need to apply it also on MUSE data\n",
    "# regul: use regularization or not\n",
    "\n",
    "debl.findSources(transfert_hst=True,antialias=False,regul=False)\n"
   ]
  },
  {
   "cell_type": "markdown",
   "metadata": {},
   "source": [
    "## Explore results"
   ]
  },
  {
   "cell_type": "markdown",
   "metadata": {},
   "source": [
    "### Segmap"
   ]
  },
  {
   "cell_type": "code",
   "execution_count": null,
   "metadata": {},
   "outputs": [],
   "source": [
    "plt.imshow(debl.labelHR)"
   ]
  },
  {
   "cell_type": "code",
   "execution_count": null,
   "metadata": {},
   "outputs": [],
   "source": []
  },
  {
   "cell_type": "markdown",
   "metadata": {},
   "source": [
    "### Spectra"
   ]
  },
  {
   "cell_type": "markdown",
   "metadata": {},
   "source": [
    "The list of spectra (calibrated in flux) is stored in debl.sources and their variances are stored in debl.varSources. It can also be obtained as a dict of mpdaf spectras with the HST IDs as keys using debl.getsp() (with the key 'bg' for the background spectrum)."
   ]
  },
  {
   "cell_type": "code",
   "execution_count": null,
   "metadata": {},
   "outputs": [],
   "source": [
    "plt.figure(figsize=(15,5))\n",
    "plt.plot(src.spectra['MUSE_WHITE_SKYSUB'].data)"
   ]
  },
  {
   "cell_type": "code",
   "execution_count": null,
   "metadata": {},
   "outputs": [],
   "source": [
    "# Compare spectra of object 3 with and without regul\n",
    "plt.plot(debl_regul.sources[3])\n",
    "plt.plot(debl_noregul.sources[3],alpha=0.5)"
   ]
  },
  {
   "cell_type": "markdown",
   "metadata": {},
   "source": [
    "### Intensity maps"
   ]
  },
  {
   "cell_type": "markdown",
   "metadata": {},
   "source": [
    "The map of objects segmentation map with intern IDs is stored in debl.labelHR (nd array). The same with HST IDs is stored in debl.segmap"
   ]
  },
  {
   "cell_type": "code",
   "execution_count": null,
   "metadata": {},
   "outputs": [],
   "source": [
    "plt.imshow(debl_regul.listIntensityMapLRConvol[0][1][2].reshape(debl_regul.shapeLR))"
   ]
  },
  {
   "cell_type": "markdown",
   "metadata": {},
   "source": [
    "### Residuals"
   ]
  },
  {
   "cell_type": "markdown",
   "metadata": {},
   "source": [
    "Residuals (data-reconstructed) are stored in debl.residuals, rebuilt cube is stored in cubeRebuilt"
   ]
  },
  {
   "cell_type": "code",
   "execution_count": null,
   "metadata": {},
   "outputs": [],
   "source": [
    "plt.figure(figsize=(20,10))\n",
    "plt.subplot(121)\n",
    "_min, _max = np.amin(debl_regul.cubeLR.sum(axis=0)), np.amax(debl_regul.cubeLR.sum(axis=0))\n",
    "plt.imshow(debl_regul.cubeLR.sum(axis=0),vmin=_min,vmax=_max)\n",
    "plt.colorbar(fraction=0.046)\n",
    "plt.subplot(122)\n",
    "plt.imshow(debl_regul.cubeRebuilt.sum(axis=0),vmin=_min,vmax=_max)\n",
    "plt.colorbar(fraction=0.046)"
   ]
  },
  {
   "cell_type": "markdown",
   "metadata": {},
   "source": [
    "## Analyze results"
   ]
  },
  {
   "cell_type": "code",
   "execution_count": null,
   "metadata": {},
   "outputs": [],
   "source": [
    "from deblend import eval_utils"
   ]
  },
  {
   "cell_type": "code",
   "execution_count": null,
   "metadata": {},
   "outputs": [],
   "source": [
    "print \"Intercorrelation between the two main objects\"\n",
    "print \"without regularization\",eval_utils.calcInterCorr2(debl_noregul.sources[3],debl_noregul.sources[2])\n",
    "print \"with regularization\",eval_utils.calcInterCorr2(debl_regul.sources[3],debl_regul.sources[2])\n"
   ]
  }
 ],
 "metadata": {
  "kernelspec": {
   "display_name": "Test Odhin 3",
   "language": "python",
   "name": "testodhin3"
  },
  "language_info": {
   "codemirror_mode": {
    "name": "ipython",
    "version": 3
   },
   "file_extension": ".py",
   "mimetype": "text/x-python",
   "name": "python",
   "nbconvert_exporter": "python",
   "pygments_lexer": "ipython3",
   "version": "3.6.3"
  }
 },
 "nbformat": 4,
 "nbformat_minor": 2
}
